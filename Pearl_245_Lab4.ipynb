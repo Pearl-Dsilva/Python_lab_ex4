{
 "cells": [
  {
   "cell_type": "markdown",
   "metadata": {},
   "source": [
    "# Lab Exercise 4\n",
    "Write a Python program to implement the object-oriented concepts of multiple, Multilevel and Hierarchical Inheritances using your domain applications.\n"
   ]
  },
  {
   "cell_type": "code",
   "execution_count": 11,
   "metadata": {},
   "outputs": [
    {
     "name": "stdout",
     "output_type": "stream",
     "text": [
      "Zoo name : Bannergatta National Zoo\n",
      "Animal ID : 101\n",
      "Animal Gender : F\n",
      "Animal Age : 10\n",
      "Animal Name : Jane\n",
      "Animal Species : Elephant Herbivore\n"
     ]
    }
   ],
   "source": [
    "# Python program to demonstrate multiple inheritance\n",
    " \n",
    "\n",
    "class Zoo:\n",
    "    zooName = \"Bannergatta National Zoo\"\n",
    " \n",
    "    def zoos(self):\n",
    "        print(self.zooName)\n",
    " \n",
    "\n",
    "class Animals:\n",
    "    animalID = \"\"\n",
    "    animalName = \"\"\n",
    "    animalGender = \"\"\n",
    "    animalAge = \"\"\n",
    "    animalSpecies = \"\"\n",
    " \n",
    "    def animalDetails(self):\n",
    "        print(self.animalID)\n",
    "        print(self.animalName)\n",
    "        print(self.animalGender)\n",
    "        print(self.animalAge)\n",
    "        print(self.animalSpecies)\n",
    " \n",
    " \n",
    " \n",
    "class AddAnimalData(Zoo, Animals):\n",
    "    def data(self):\n",
    "        print(\"Zoo name :\", self.zooName)\n",
    "        print(\"Animal ID :\", self.animalID)\n",
    "        print(\"Animal Name :\", self.animalName)\n",
    "        print(\"Animal Species :\", self.animalSpecies)\n",
    "        print(\"Animal Gender :\", self.animalGender)\n",
    "        print(\"Animal Age :\", self.animalAge)\n",
    "        \n",
    "        \n",
    " \n",
    "\n",
    "div1 = AddAnimalData()\n",
    "div1.animalID = 101\n",
    "div1.animalName = \"Jane\"\n",
    "div1.animalSpecies = \"Elephant Herbivore\"\n",
    "div1.animalAge = 10\n",
    "div1.animalGender = \"F\"\n",
    "\n",
    "div1.data()"
   ]
  },
  {
   "cell_type": "code",
   "execution_count": 16,
   "metadata": {},
   "outputs": [
    {
     "name": "stdout",
     "output_type": "stream",
     "text": [
      "Mani\n",
      "Zoo name : Bannergatta National Zoo\n",
      "Animal species : Elephant Herbivore\n",
      "Animal name : Mani\n"
     ]
    }
   ],
   "source": [
    "# Python program to demonstrate multilevel inheritance\n",
    " \n",
    "\n",
    " \n",
    "class Zoo:\n",
    " \n",
    "    def __init__(self, zooName):\n",
    "        self.zooName = zooName\n",
    " \n",
    "\n",
    " \n",
    "class Animals(Zoo):\n",
    "    def __init__(self, animalSpecies, zooName):\n",
    "        self.animalSpecies = animalSpecies\n",
    " \n",
    "\n",
    "        Zoo.__init__(self, zooName)\n",
    " \n",
    "\n",
    " \n",
    " \n",
    "class AddAnimalData(Animals):\n",
    "    def __init__(self, animalName, animalSpecies, zooName):\n",
    "        self.animalName = animalName\n",
    " \n",
    "\n",
    "        Animals.__init__(self, animalSpecies, zooName)\n",
    " \n",
    "    def showData(self):\n",
    "        print('Zoo name :', self.zooName)\n",
    "        print(\"Animal species :\", self.animalSpecies)\n",
    "        print(\"Animal name :\", self.animalName)\n",
    " \n",
    " \n",
    "\n",
    "output = AddAnimalData('Mani', 'Elephant Herbivore', 'Bannergatta National Zoo')\n",
    "print(output.animalName)\n",
    "output.showData()"
   ]
  },
  {
   "cell_type": "code",
   "execution_count": 64,
   "metadata": {},
   "outputs": [
    {
     "name": "stdout",
     "output_type": "stream",
     "text": [
      "Anima Object\n",
      "Id:  1\n",
      "Name:  Elephant\n",
      "Gender:  Male\n",
      "Legs:  4\n",
      "\n",
      "Bird Object\n",
      "Id:  1\n",
      "Name:  Macow\n",
      "Gender:  Male\n",
      "Can Fly? :  Yes\n"
     ]
    }
   ],
   "source": [
    "# Python program to demonstrate Hierarchical inheritance\n",
    "class Zoo:\n",
    "    def __init__(self):\n",
    "        self.__id=\"<No Id>\"\n",
    "        self.__name=\"<No Name>\"\n",
    "        self.__gender=\"<No Gender>\"\n",
    "\n",
    "    def setData(self,id,name,gender):\n",
    "        self.__id=id\n",
    "        self.__name=name\n",
    "        self.__gender=gender\n",
    "\n",
    "    def showData(self):\n",
    "        print(\"Id: \",self.__id)\n",
    "        print(\"Name: \", self.__name)\n",
    "        print(\"Gender: \", self.__gender)\n",
    "\n",
    "class Animal(Zoo): #Inheritance\n",
    "    def __init__(self):\n",
    "        self.__legs=\"<No Legs>\"\n",
    "        \n",
    "    def setAnimalData(self,id,name,gender,legs):\n",
    "        self.setData(id,name,gender)\n",
    "        self.__legs=legs\n",
    "        \n",
    "    def showAnimalData(self):\n",
    "        self.showData()\n",
    "        print(\"Legs: \", self.__legs)\n",
    "\n",
    "class Bird(Zoo): #Inheritance\n",
    "    def __init__(self):\n",
    "        self.__canFly=\"<No>\"\n",
    "        \n",
    "    def setAnimalData(self,id,name,gender,fly):\n",
    "        self.setData(id,name,gender)\n",
    "        self.__canFly=fly\n",
    "\n",
    "    def showAnimalData(self):\n",
    "        self.showData()\n",
    "        print(\"Can Fly? : \", self.__canFly)\n",
    "       \n",
    "\n",
    "def main():\n",
    "    print(\"Anima Object\")\n",
    "    a=Animal()\n",
    "    a.setAnimalData(1,\"Elephant\",\"Male\",\"4\")\n",
    "    a.showAnimalData()\n",
    "    print(\"\\nBird Object\")\n",
    "    b = Bird()\n",
    "    b.setAnimalData(1,\"Macow\",\"Male\",\"Yes\")\n",
    "    b.showAnimalData()\n",
    "\n",
    "if __name__==\"__main__\":\n",
    "    main()"
   ]
  }
 ],
 "metadata": {
  "kernelspec": {
   "display_name": "Python 3",
   "language": "python",
   "name": "python3"
  },
  "language_info": {
   "codemirror_mode": {
    "name": "ipython",
    "version": 3
   },
   "file_extension": ".py",
   "mimetype": "text/x-python",
   "name": "python",
   "nbconvert_exporter": "python",
   "pygments_lexer": "ipython3",
   "version": "3.7.9"
  },
  "orig_nbformat": 4
 },
 "nbformat": 4,
 "nbformat_minor": 2
}
